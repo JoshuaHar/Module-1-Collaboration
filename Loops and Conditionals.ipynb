{
 "cells": [
  {
   "cell_type": "code",
   "execution_count": 17,
   "id": "f08adaa2-ca82-4644-8487-873cb0a1421f",
   "metadata": {},
   "outputs": [
    {
     "name": "stdout",
     "output_type": "stream",
     "text": [
      "too high\n",
      "pea\n",
      "3\n",
      "2\n",
      "1\n",
      "0\n",
      "too low\n",
      "too low\n",
      "too low\n",
      "too low\n",
      "too low\n",
      "too low\n",
      "found it!\n"
     ]
    }
   ],
   "source": [
    "# 4.1\n",
    "secret = 5\n",
    "guess = 1\n",
    "if secret > guess:\n",
    "    print(\"too high\")\n",
    "elif secret < guess:\n",
    "    print(\"too low\")\n",
    "else:\n",
    "    print(\"just right\")\n",
    "\n",
    "# 4.2\n",
    "small = True\n",
    "green = True\n",
    "if small and green:\n",
    "    print(\"pea\")\n",
    "elif small and not green:\n",
    "    print(\"cherry\")\n",
    "elif not small and green:\n",
    "    print(\"watermelon\")\n",
    "else:\n",
    "    print(\"pumpkin\")\n",
    "\n",
    "# 6.1\n",
    "list = [3, 2, 1, 0]\n",
    "for i in list:\n",
    "    print(i)\n",
    "\n",
    "# 6.2\n",
    "guess_me = 7\n",
    "number = 1\n",
    "while number <= guess_me:\n",
    "    if number < guess_me:\n",
    "        print(\"too low\")\n",
    "    elif number == guess_me:\n",
    "        print(\"found it!\")\n",
    "        break\n",
    "    number += 1\n",
    "\n",
    "# 6.3\n",
    "guess_me = 5\n",
    "number = 1\n",
    "for number in range(10):\n",
    "    if number < guess_me:\n",
    "        print(\"too low\")\n",
    "    elif number == guess_me:\n",
    "        print(\"found it!)\n",
    "        break\n",
    "        else:\n",
    "    print(\"oops\")\n",
    "    break"
   ]
  },
  {
   "cell_type": "code",
   "execution_count": null,
   "id": "91255fde-710a-41ef-83f1-fdc1b3a2c285",
   "metadata": {},
   "outputs": [],
   "source": []
  }
 ],
 "metadata": {
  "kernelspec": {
   "display_name": "Python [conda env:base] *",
   "language": "python",
   "name": "conda-base-py"
  },
  "language_info": {
   "codemirror_mode": {
    "name": "ipython",
    "version": 3
   },
   "file_extension": ".py",
   "mimetype": "text/x-python",
   "name": "python",
   "nbconvert_exporter": "python",
   "pygments_lexer": "ipython3",
   "version": "3.12.7"
  }
 },
 "nbformat": 4,
 "nbformat_minor": 5
}
