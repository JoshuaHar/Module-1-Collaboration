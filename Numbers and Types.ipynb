{
 "cells": [
  {
   "cell_type": "code",
   "execution_count": 13,
   "id": "3df41868-252b-40d4-a998-472fc3a8e467",
   "metadata": {},
   "outputs": [
    {
     "data": {
      "text/plain": [
       "24"
      ]
     },
     "execution_count": 13,
     "metadata": {},
     "output_type": "execute_result"
    }
   ],
   "source": [
    "# 3.1\n",
    "60*60\n",
    "# 3.2\n",
    "seconds_per_hour = 60*60\n",
    "# 3.3\n",
    "seconds_per_hour*24\n",
    "# 3.4\n",
    "seconds_per_day = seconds_per_hour*24\n",
    "# 3.5\n",
    "seconds_per_day/seconds_per_hour\n",
    "# 3.6\n",
    "seconds_per_day//seconds_per_hour"
   ]
  }
 ],
 "metadata": {
  "kernelspec": {
   "display_name": "Python [conda env:base] *",
   "language": "python",
   "name": "conda-base-py"
  },
  "language_info": {
   "codemirror_mode": {
    "name": "ipython",
    "version": 3
   },
   "file_extension": ".py",
   "mimetype": "text/x-python",
   "name": "python",
   "nbconvert_exporter": "python",
   "pygments_lexer": "ipython3",
   "version": "3.12.7"
  }
 },
 "nbformat": 4,
 "nbformat_minor": 5
}
