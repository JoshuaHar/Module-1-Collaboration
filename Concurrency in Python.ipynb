{
 "cells": [
  {
   "cell_type": "code",
   "execution_count": 13,
   "id": "98cdff1f-0aff-44a3-b064-402454b0d4a6",
   "metadata": {},
   "outputs": [],
   "source": [
    "# 13.1\n",
    "from datetime import date\n",
    "\n",
    "today = date.today()\n",
    "\n",
    "with open('today.txt', 'w') as file:\n",
    "    file.write(today.isoformat())"
   ]
  },
  {
   "cell_type": "code",
   "execution_count": 15,
   "id": "494cac0e-b018-4625-a426-ecfd93794685",
   "metadata": {},
   "outputs": [
    {
     "name": "stdout",
     "output_type": "stream",
     "text": [
      "2025-04-27\n"
     ]
    }
   ],
   "source": [
    "# 13.2\n",
    "with open('today.txt', 'r') as file:\n",
    "    today_string = file.read()\n",
    "\n",
    "print(today_string)"
   ]
  },
  {
   "cell_type": "code",
   "execution_count": 17,
   "id": "db25b80f-5df5-4b59-b09a-ab260bc7d2f3",
   "metadata": {},
   "outputs": [
    {
     "name": "stdout",
     "output_type": "stream",
     "text": [
      "2025-04-27\n"
     ]
    }
   ],
   "source": [
    "# 13.3\n",
    "from datetime import datetime\n",
    "\n",
    "parsed_date = datetime.strptime(today_string, '%Y-%m-%d').date()\n",
    "\n",
    "print(parsed_date)"
   ]
  },
  {
   "cell_type": "code",
   "execution_count": 29,
   "id": "f68c1366-0b4f-4d25-afef-bf62fc7b0cfb",
   "metadata": {},
   "outputs": [
    {
     "name": "stdout",
     "output_type": "stream",
     "text": [
      "Thread 3 - Time: 2025-04-27 11:09:44.686408\n",
      "Thread 1 - Time: 2025-04-27 11:09:44.984568\n",
      "Thread 2 - Time: 2025-04-27 11:09:45.543627\n"
     ]
    }
   ],
   "source": [
    "import concurrent.futures\n",
    "import random\n",
    "import time\n",
    "from datetime import datetime\n",
    "\n",
    "def worker(n):\n",
    "    time.sleep(random.uniform(0, 1))\n",
    "    current_time = datetime.now()\n",
    "    return f\"Thread {n} - Time: {current_time}\"\n",
    "\n",
    "with concurrent.futures.ThreadPoolExecutor() as executor:\n",
    "    futures = [executor.submit(worker, i) for i in range(1, 4)]\n",
    "    \n",
    "    for future in concurrent.futures.as_completed(futures):\n",
    "        print(future.result())"
   ]
  }
 ],
 "metadata": {
  "kernelspec": {
   "display_name": "Python [conda env:base] *",
   "language": "python",
   "name": "conda-base-py"
  },
  "language_info": {
   "codemirror_mode": {
    "name": "ipython",
    "version": 3
   },
   "file_extension": ".py",
   "mimetype": "text/x-python",
   "name": "python",
   "nbconvert_exporter": "python",
   "pygments_lexer": "ipython3",
   "version": "3.12.7"
  }
 },
 "nbformat": 4,
 "nbformat_minor": 5
}
